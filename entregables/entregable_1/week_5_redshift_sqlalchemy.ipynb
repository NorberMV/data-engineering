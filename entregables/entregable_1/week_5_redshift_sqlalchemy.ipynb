{
 "cells": [
  {
   "cell_type": "code",
   "execution_count": 1,
   "id": "62dcbb8e",
   "metadata": {
    "collapsed": false,
    "jupyter": {
     "outputs_hidden": false
    },
    "pycharm": {
     "name": "#%%\n"
    }
   },
   "outputs": [],
   "source": [
    "%%capture\n",
    "!pip install yfinance\n",
    "!pip install \"redshift-connector[full]\" sqlalchemy-redshift\n",
    "!pip install python-dotenv\n",
    "!pip install psycopg2-binary"
   ]
  },
  {
   "cell_type": "code",
   "execution_count": 2,
   "id": "430ea09e",
   "metadata": {
    "collapsed": false,
    "jupyter": {
     "outputs_hidden": false
    },
    "pycharm": {
     "name": "#%%\n"
    }
   },
   "outputs": [
    {
     "data": {
      "text/plain": [
       "True"
      ]
     },
     "execution_count": 2,
     "metadata": {},
     "output_type": "execute_result"
    }
   ],
   "source": [
    "import os\n",
    "from configparser import ConfigParser\n",
    "import sqlalchemy as sa\n",
    "from sqlalchemy.engine.url import URL\n",
    "from sqlalchemy.exc import SQLAlchemyError, ResourceClosedError\n",
    "import pandas as pd\n",
    "from pathlib import Path\n",
    "import yfinance as yf\n",
    "from dotenv import load_dotenv\n",
    "load_dotenv()"
   ]
  },
  {
   "cell_type": "code",
   "execution_count": 5,
   "id": "0c4e7e77",
   "metadata": {
    "collapsed": false,
    "jupyter": {
     "outputs_hidden": false
    },
    "pycharm": {
     "name": "#%%\n"
    }
   },
   "outputs": [],
   "source": [
    "# This file is used by dotenv to load the db credentials\n",
    "env_file = Path('.').resolve() / '.env'"
   ]
  },
  {
   "cell_type": "code",
   "execution_count": 6,
   "id": "47a690e0",
   "metadata": {
    "collapsed": false,
    "jupyter": {
     "outputs_hidden": false
    },
    "pycharm": {
     "name": "#%%\n"
    }
   },
   "outputs": [],
   "source": [
    "# DB configuration environment variables\n",
    "user = os.getenv('USERNAME')\n",
    "passw = os.getenv('PASSW')\n",
    "host = os.getenv('HOST')\n",
    "port = os.getenv('PORT')\n",
    "dbname = os.getenv('DB_NAME')\n",
    "schema = \"norbermv_dev_coderhouse\""
   ]
  },
  {
   "cell_type": "code",
   "execution_count": 7,
   "id": "8b40b53c",
   "metadata": {
    "collapsed": false,
    "jupyter": {
     "outputs_hidden": false
    },
    "pycharm": {
     "name": "#%%\n"
    }
   },
   "outputs": [],
   "source": [
    "### Defining some useful functions for handling the Redshift db connection."
   ]
  },
  {
   "cell_type": "code",
   "execution_count": 8,
   "id": "ccb173e2",
   "metadata": {
    "collapsed": false,
    "jupyter": {
     "outputs_hidden": false
    },
    "pycharm": {
     "name": "#%%\n"
    }
   },
   "outputs": [],
   "source": [
    "def build_conn_string(\n",
    "    user: str, \n",
    "    passw: str, \n",
    "    host: str, \n",
    "    port: str, \n",
    "    dbname: str\n",
    ") -> URL:\n",
    "    conn_string = URL.create(\n",
    "        drivername=\"postgresql\",\n",
    "        username=user,\n",
    "        password=passw,\n",
    "        host=host,\n",
    "        port=port,\n",
    "        database=dbname\n",
    "    )\n",
    "    return conn_string\n",
    "\n",
    "def conn_to_db(conn_str: URL) -> tuple :\n",
    "    # Create an engine with the connection string\n",
    "    engine = sa.create_engine(conn_str)\n",
    "    try:\n",
    "        # Connect to the database\n",
    "        conn = engine.connect()\n",
    "        return conn, engine\n",
    "    except SQLAlchemyError as e:\n",
    "        print(f\"Error connecting to the database: {e}\")\n",
    "        return None, None"
   ]
  },
  {
   "cell_type": "code",
   "execution_count": 9,
   "id": "5a100158",
   "metadata": {
    "collapsed": false,
    "jupyter": {
     "outputs_hidden": false
    },
    "pycharm": {
     "name": "#%%\n"
    }
   },
   "outputs": [],
   "source": [
    "# Build the connection string, and connect to the DB\n",
    "conn_str = build_conn_string(\n",
    "    user, \n",
    "    passw, \n",
    "    host, \n",
    "    port,\n",
    "    dbname\n",
    ")"
   ]
  },
  {
   "cell_type": "code",
   "execution_count": 11,
   "id": "1e55fae8",
   "metadata": {
    "collapsed": false,
    "jupyter": {
     "outputs_hidden": false
    },
    "pycharm": {
     "name": "#%%\n"
    }
   },
   "outputs": [],
   "source": [
    "conn, engine = conn_to_db(conn_str)"
   ]
  },
  {
   "cell_type": "markdown",
   "id": "5b59f2d6",
   "metadata": {
    "collapsed": false,
    "jupyter": {
     "outputs_hidden": false
    },
    "pycharm": {
     "name": "#%% md\n"
    }
   },
   "source": [
    "## Create The `stock_hist`  Table"
   ]
  },
  {
   "cell_type": "code",
   "execution_count": 13,
   "id": "88db1fd2",
   "metadata": {
    "collapsed": false,
    "jupyter": {
     "outputs_hidden": false
    },
    "pycharm": {
     "name": "#%%\n"
    }
   },
   "outputs": [
    {
     "name": "stderr",
     "output_type": "stream",
     "text": [
      "/var/folders/67/9k7m5nln4qz0y9s4rgmd3s2c0000gn/T/ipykernel_9360/3873696306.py:5: RemovedIn20Warning: Deprecated API features detected! These feature(s) are not compatible with SQLAlchemy 2.0. To prevent incompatible upgrades prior to updating applications, ensure requirements files are pinned to \"sqlalchemy<2.0\". Set environment variable SQLALCHEMY_WARN_20=1 to show all deprecation warnings.  Set environment variable SQLALCHEMY_SILENCE_UBER_WARNING=1 to silence this message. (Background on SQLAlchemy 2.0 at: https://sqlalche.me/e/b8d9)\n",
      "  conn.execute(\n"
     ]
    }
   ],
   "source": [
    "if conn is not None:\n",
    "    try:\n",
    "        # Use the connection to execute a DDL statement\n",
    "        with conn.begin() as trans:\n",
    "            conn.execute(\n",
    "                f\"\"\"\n",
    "                DROP TABLE IF EXISTS {schema}.stock_hist;\n",
    "                CREATE TABLE {schema}.stock_hist (\n",
    "                    Date TIMESTAMP,\n",
    "                    open_price FLOAT,\n",
    "                    High FLOAT,\n",
    "                    Low FLOAT,\n",
    "                    Close FLOAT,\n",
    "                    Volume INT,\n",
    "                    Dividends FLOAT,\n",
    "                    Stock_Splits FLOAT\n",
    "                );\n",
    "                \"\"\"\n",
    "            )\n",
    "            # Commit the transaction to ensure DDL statement is executed\n",
    "            trans.commit()\n",
    "    except Exception as e:\n",
    "        print(f\"An error occurred: {e}\")\n",
    "    finally:\n",
    "        conn.close()\n",
    "else:\n",
    "    print(\"Failed to connect to the database.\")\n"
   ]
  },
  {
   "cell_type": "markdown",
   "id": "ed37346c",
   "metadata": {
    "collapsed": false,
    "jupyter": {
     "outputs_hidden": false
    },
    "pycharm": {
     "name": "#%% md\n"
    }
   },
   "source": [
    "## Retrieving the data from the `yfinance` API\n",
    "Using the yfinance API to fetch historical stock data for Apple Inc. (ticker symbol: AAPL)"
   ]
  },
  {
   "cell_type": "code",
   "execution_count": 14,
   "id": "ea25da35",
   "metadata": {
    "collapsed": false,
    "jupyter": {
     "outputs_hidden": false
    },
    "pycharm": {
     "name": "#%%\n"
    }
   },
   "outputs": [],
   "source": [
    "# Create a Ticker object for Apple Inc.\n",
    "aapl = yf.Ticker(\"AAPL\")"
   ]
  },
  {
   "cell_type": "code",
   "execution_count": 16,
   "id": "19111382",
   "metadata": {
    "collapsed": false,
    "jupyter": {
     "outputs_hidden": false
    },
    "pycharm": {
     "name": "#%%\n"
    }
   },
   "outputs": [],
   "source": [
    "# Get historical market data for Apple\n",
    "aapl_hist = aapl.history(period=\"1y\")\n",
    "\n",
    "# Show meta information about the history for Apple (requires history() to be called first)\n",
    "aapl_history_metadata = aapl.history_metadata"
   ]
  },
  {
   "cell_type": "code",
   "execution_count": 17,
   "id": "b5b54600",
   "metadata": {
    "collapsed": false,
    "jupyter": {
     "outputs_hidden": false
    },
    "pycharm": {
     "name": "#%%\n"
    }
   },
   "outputs": [],
   "source": [
    "# Rename the aapl_hist DataFrame columns to match the column names in the 'stock_hist' table\n",
    "aapl_hist.columns = ['open_price', 'High', 'Low', 'Close', 'Volume', 'Dividends', 'Stock_Splits']"
   ]
  },
  {
   "cell_type": "code",
   "execution_count": 18,
   "id": "c1bbdd08",
   "metadata": {
    "collapsed": false,
    "jupyter": {
     "outputs_hidden": false
    },
    "pycharm": {
     "name": "#%%\n"
    }
   },
   "outputs": [
    {
     "data": {
      "text/html": [
       "<div>\n",
       "<style scoped>\n",
       "    .dataframe tbody tr th:only-of-type {\n",
       "        vertical-align: middle;\n",
       "    }\n",
       "\n",
       "    .dataframe tbody tr th {\n",
       "        vertical-align: top;\n",
       "    }\n",
       "\n",
       "    .dataframe thead th {\n",
       "        text-align: right;\n",
       "    }\n",
       "</style>\n",
       "<table border=\"1\" class=\"dataframe\">\n",
       "  <thead>\n",
       "    <tr style=\"text-align: right;\">\n",
       "      <th></th>\n",
       "      <th>open_price</th>\n",
       "      <th>High</th>\n",
       "      <th>Low</th>\n",
       "      <th>Close</th>\n",
       "      <th>Volume</th>\n",
       "      <th>Dividends</th>\n",
       "      <th>Stock_Splits</th>\n",
       "    </tr>\n",
       "    <tr>\n",
       "      <th>Date</th>\n",
       "      <th></th>\n",
       "      <th></th>\n",
       "      <th></th>\n",
       "      <th></th>\n",
       "      <th></th>\n",
       "      <th></th>\n",
       "      <th></th>\n",
       "    </tr>\n",
       "  </thead>\n",
       "  <tbody>\n",
       "    <tr>\n",
       "      <th>2023-01-27 00:00:00-05:00</th>\n",
       "      <td>142.364244</td>\n",
       "      <td>146.411612</td>\n",
       "      <td>142.284686</td>\n",
       "      <td>145.118835</td>\n",
       "      <td>70555800</td>\n",
       "      <td>0.0</td>\n",
       "      <td>0.0</td>\n",
       "    </tr>\n",
       "    <tr>\n",
       "      <th>2023-01-30 00:00:00-05:00</th>\n",
       "      <td>144.154251</td>\n",
       "      <td>144.740968</td>\n",
       "      <td>142.055979</td>\n",
       "      <td>142.205139</td>\n",
       "      <td>64015300</td>\n",
       "      <td>0.0</td>\n",
       "      <td>0.0</td>\n",
       "    </tr>\n",
       "    <tr>\n",
       "      <th>2023-01-31 00:00:00-05:00</th>\n",
       "      <td>141.906802</td>\n",
       "      <td>143.537686</td>\n",
       "      <td>141.489139</td>\n",
       "      <td>143.487961</td>\n",
       "      <td>65874500</td>\n",
       "      <td>0.0</td>\n",
       "      <td>0.0</td>\n",
       "    </tr>\n",
       "    <tr>\n",
       "      <th>2023-02-01 00:00:00-05:00</th>\n",
       "      <td>143.169752</td>\n",
       "      <td>145.795077</td>\n",
       "      <td>140.534488</td>\n",
       "      <td>144.621628</td>\n",
       "      <td>77663600</td>\n",
       "      <td>0.0</td>\n",
       "      <td>0.0</td>\n",
       "    </tr>\n",
       "    <tr>\n",
       "      <th>2023-02-02 00:00:00-05:00</th>\n",
       "      <td>148.072348</td>\n",
       "      <td>150.339674</td>\n",
       "      <td>147.346410</td>\n",
       "      <td>149.981689</td>\n",
       "      <td>118339000</td>\n",
       "      <td>0.0</td>\n",
       "      <td>0.0</td>\n",
       "    </tr>\n",
       "  </tbody>\n",
       "</table>\n",
       "</div>"
      ],
      "text/plain": [
       "                           open_price        High         Low       Close  \\\n",
       "Date                                                                        \n",
       "2023-01-27 00:00:00-05:00  142.364244  146.411612  142.284686  145.118835   \n",
       "2023-01-30 00:00:00-05:00  144.154251  144.740968  142.055979  142.205139   \n",
       "2023-01-31 00:00:00-05:00  141.906802  143.537686  141.489139  143.487961   \n",
       "2023-02-01 00:00:00-05:00  143.169752  145.795077  140.534488  144.621628   \n",
       "2023-02-02 00:00:00-05:00  148.072348  150.339674  147.346410  149.981689   \n",
       "\n",
       "                              Volume  Dividends  Stock_Splits  \n",
       "Date                                                           \n",
       "2023-01-27 00:00:00-05:00   70555800        0.0           0.0  \n",
       "2023-01-30 00:00:00-05:00   64015300        0.0           0.0  \n",
       "2023-01-31 00:00:00-05:00   65874500        0.0           0.0  \n",
       "2023-02-01 00:00:00-05:00   77663600        0.0           0.0  \n",
       "2023-02-02 00:00:00-05:00  118339000        0.0           0.0  "
      ]
     },
     "execution_count": 18,
     "metadata": {},
     "output_type": "execute_result"
    }
   ],
   "source": [
    "aapl_hist.head()"
   ]
  },
  {
   "cell_type": "code",
   "execution_count": 22,
   "id": "a58a70d8",
   "metadata": {
    "collapsed": false,
    "jupyter": {
     "outputs_hidden": false
    },
    "pycharm": {
     "name": "#%%\n"
    }
   },
   "outputs": [],
   "source": [
    "conn, engine = conn_to_db(conn_str)"
   ]
  },
  {
   "cell_type": "code",
   "execution_count": 23,
   "id": "b9cc9715",
   "metadata": {
    "collapsed": false,
    "jupyter": {
     "outputs_hidden": false
    },
    "pycharm": {
     "name": "#%%\n"
    }
   },
   "outputs": [],
   "source": [
    "\n",
    "if conn is not None:\n",
    "    try:\n",
    "        with conn.begin() as trans:\n",
    "            for index, row in aapl_hist.iterrows():\n",
    "                sql = f\"\"\"\n",
    "                INSERT INTO {schema}.stock_hist (Date, open_price, High, Low, Close, Volume, Dividends, Stock_Splits)\n",
    "                VALUES (%s, %s, %s, %s, %s, %s, %s, %s);\n",
    "                \"\"\"\n",
    "                conn.execute(sql, (index, row['open_price'], row['High'], row['Low'], row['Close'], row['Volume'], row['Dividends'], row['Stock_Splits']))\n",
    "            # Commit the transaction\n",
    "            trans.commit()\n",
    "    except Exception as e:\n",
    "        if isinstance(e, ResourceClosedError):\n",
    "            print(\"Failed to connect to the database\");\n",
    "        else:\n",
    "            print(f\"An error occurred: {e}\")\n",
    "    finally:\n",
    "        conn.close()"
   ]
  }
 ],
 "metadata": {
  "kernelspec": {
   "display_name": "Python 3 (ipykernel)",
   "language": "python",
   "name": "python3"
  },
  "language_info": {
   "codemirror_mode": {
    "name": "ipython",
    "version": 3
   },
   "file_extension": ".py",
   "mimetype": "text/x-python",
   "name": "python",
   "nbconvert_exporter": "python",
   "pygments_lexer": "ipython3",
   "version": "3.9.12"
  }
 },
 "nbformat": 4,
 "nbformat_minor": 5
}