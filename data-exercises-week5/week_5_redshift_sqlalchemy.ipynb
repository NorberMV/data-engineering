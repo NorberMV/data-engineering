{
 "cells": [
  {
   "cell_type": "code",
   "execution_count": 1,
   "id": "ac3f22b0",
   "metadata": {
    "pycharm": {
     "name": "#%%\n"
    }
   },
   "outputs": [
    {
     "name": "stdout",
     "output_type": "stream",
     "text": [
      "Requirement already satisfied: yfinance in /Users/norbermv/venv/jnotebook/lib/python3.9/site-packages (0.2.35)\n",
      "Requirement already satisfied: pandas>=1.3.0 in /Users/norbermv/venv/jnotebook/lib/python3.9/site-packages (from yfinance) (2.1.4)\n",
      "Requirement already satisfied: numpy>=1.16.5 in /Users/norbermv/venv/jnotebook/lib/python3.9/site-packages (from yfinance) (1.26.3)\n",
      "Requirement already satisfied: requests>=2.31 in /Users/norbermv/venv/jnotebook/lib/python3.9/site-packages (from yfinance) (2.31.0)\n",
      "Requirement already satisfied: multitasking>=0.0.7 in /Users/norbermv/venv/jnotebook/lib/python3.9/site-packages (from yfinance) (0.0.11)\n",
      "Requirement already satisfied: lxml>=4.9.1 in /Users/norbermv/venv/jnotebook/lib/python3.9/site-packages (from yfinance) (5.1.0)\n",
      "Requirement already satisfied: appdirs>=1.4.4 in /Users/norbermv/venv/jnotebook/lib/python3.9/site-packages (from yfinance) (1.4.4)\n",
      "Requirement already satisfied: pytz>=2022.5 in /Users/norbermv/venv/jnotebook/lib/python3.9/site-packages (from yfinance) (2023.3.post1)\n",
      "Requirement already satisfied: frozendict>=2.3.4 in /Users/norbermv/venv/jnotebook/lib/python3.9/site-packages (from yfinance) (2.4.0)\n",
      "Requirement already satisfied: peewee>=3.16.2 in /Users/norbermv/venv/jnotebook/lib/python3.9/site-packages (from yfinance) (3.17.0)\n",
      "Requirement already satisfied: beautifulsoup4>=4.11.1 in /Users/norbermv/venv/jnotebook/lib/python3.9/site-packages (from yfinance) (4.12.2)\n",
      "Requirement already satisfied: html5lib>=1.1 in /Users/norbermv/venv/jnotebook/lib/python3.9/site-packages (from yfinance) (1.1)\n",
      "Requirement already satisfied: soupsieve>1.2 in /Users/norbermv/venv/jnotebook/lib/python3.9/site-packages (from beautifulsoup4>=4.11.1->yfinance) (2.4.1)\n",
      "Requirement already satisfied: six>=1.9 in /Users/norbermv/venv/jnotebook/lib/python3.9/site-packages (from html5lib>=1.1->yfinance) (1.16.0)\n",
      "Requirement already satisfied: webencodings in /Users/norbermv/venv/jnotebook/lib/python3.9/site-packages (from html5lib>=1.1->yfinance) (0.5.1)\n",
      "Requirement already satisfied: python-dateutil>=2.8.2 in /Users/norbermv/venv/jnotebook/lib/python3.9/site-packages (from pandas>=1.3.0->yfinance) (2.8.2)\n",
      "Requirement already satisfied: tzdata>=2022.1 in /Users/norbermv/venv/jnotebook/lib/python3.9/site-packages (from pandas>=1.3.0->yfinance) (2023.4)\n",
      "Requirement already satisfied: charset-normalizer<4,>=2 in /Users/norbermv/venv/jnotebook/lib/python3.9/site-packages (from requests>=2.31->yfinance) (3.3.2)\n",
      "Requirement already satisfied: idna<4,>=2.5 in /Users/norbermv/venv/jnotebook/lib/python3.9/site-packages (from requests>=2.31->yfinance) (3.4)\n",
      "Requirement already satisfied: urllib3<3,>=1.21.1 in /Users/norbermv/venv/jnotebook/lib/python3.9/site-packages (from requests>=2.31->yfinance) (1.26.18)\n",
      "Requirement already satisfied: certifi>=2017.4.17 in /Users/norbermv/venv/jnotebook/lib/python3.9/site-packages (from requests>=2.31->yfinance) (2023.11.17)\n",
      "\n",
      "\u001B[1m[\u001B[0m\u001B[34;49mnotice\u001B[0m\u001B[1;39;49m]\u001B[0m\u001B[39;49m A new release of pip is available: \u001B[0m\u001B[31;49m23.1.2\u001B[0m\u001B[39;49m -> \u001B[0m\u001B[32;49m23.3.2\u001B[0m\n",
      "\u001B[1m[\u001B[0m\u001B[34;49mnotice\u001B[0m\u001B[1;39;49m]\u001B[0m\u001B[39;49m To update, run: \u001B[0m\u001B[32;49mpip install --upgrade pip\u001B[0m\n",
      "Requirement already satisfied: redshift-connector[full] in /Users/norbermv/venv/jnotebook/lib/python3.9/site-packages (2.0.918)\n",
      "Requirement already satisfied: sqlalchemy-redshift in /Users/norbermv/venv/jnotebook/lib/python3.9/site-packages (0.8.14)\n",
      "Requirement already satisfied: scramp<1.5.0,>=1.2.0 in /Users/norbermv/venv/jnotebook/lib/python3.9/site-packages (from redshift-connector[full]) (1.4.4)\n",
      "Requirement already satisfied: pytz>=2020.1 in /Users/norbermv/venv/jnotebook/lib/python3.9/site-packages (from redshift-connector[full]) (2023.3.post1)\n",
      "Requirement already satisfied: beautifulsoup4<5.0.0,>=4.7.0 in /Users/norbermv/venv/jnotebook/lib/python3.9/site-packages (from redshift-connector[full]) (4.12.2)\n",
      "Requirement already satisfied: boto3<2.0.0,>=1.9.201 in /Users/norbermv/venv/jnotebook/lib/python3.9/site-packages (from redshift-connector[full]) (1.34.17)\n",
      "Requirement already satisfied: requests<3.0.0,>=2.23.0 in /Users/norbermv/venv/jnotebook/lib/python3.9/site-packages (from redshift-connector[full]) (2.31.0)\n",
      "Requirement already satisfied: lxml>=4.6.5 in /Users/norbermv/venv/jnotebook/lib/python3.9/site-packages (from redshift-connector[full]) (5.1.0)\n",
      "Requirement already satisfied: botocore<2.0.0,>=1.12.201 in /Users/norbermv/venv/jnotebook/lib/python3.9/site-packages (from redshift-connector[full]) (1.34.17)\n",
      "Requirement already satisfied: packaging in /Users/norbermv/venv/jnotebook/lib/python3.9/site-packages (from redshift-connector[full]) (23.1)\n",
      "Requirement already satisfied: setuptools in /Users/norbermv/venv/jnotebook/lib/python3.9/site-packages (from redshift-connector[full]) (67.7.2)\n",
      "Requirement already satisfied: numpy in /Users/norbermv/venv/jnotebook/lib/python3.9/site-packages (from redshift-connector[full]) (1.26.3)\n",
      "Requirement already satisfied: pandas in /Users/norbermv/venv/jnotebook/lib/python3.9/site-packages (from redshift-connector[full]) (2.1.4)\n",
      "Requirement already satisfied: SQLAlchemy<2.0.0,>=0.9.2 in /Users/norbermv/venv/jnotebook/lib/python3.9/site-packages (from sqlalchemy-redshift) (1.4.51)\n",
      "Requirement already satisfied: soupsieve>1.2 in /Users/norbermv/venv/jnotebook/lib/python3.9/site-packages (from beautifulsoup4<5.0.0,>=4.7.0->redshift-connector[full]) (2.4.1)\n",
      "Requirement already satisfied: jmespath<2.0.0,>=0.7.1 in /Users/norbermv/venv/jnotebook/lib/python3.9/site-packages (from boto3<2.0.0,>=1.9.201->redshift-connector[full]) (1.0.1)\n",
      "Requirement already satisfied: s3transfer<0.11.0,>=0.10.0 in /Users/norbermv/venv/jnotebook/lib/python3.9/site-packages (from boto3<2.0.0,>=1.9.201->redshift-connector[full]) (0.10.0)\n",
      "Requirement already satisfied: python-dateutil<3.0.0,>=2.1 in /Users/norbermv/venv/jnotebook/lib/python3.9/site-packages (from botocore<2.0.0,>=1.12.201->redshift-connector[full]) (2.8.2)\n",
      "Requirement already satisfied: urllib3<1.27,>=1.25.4 in /Users/norbermv/venv/jnotebook/lib/python3.9/site-packages (from botocore<2.0.0,>=1.12.201->redshift-connector[full]) (1.26.18)\n",
      "Requirement already satisfied: charset-normalizer<4,>=2 in /Users/norbermv/venv/jnotebook/lib/python3.9/site-packages (from requests<3.0.0,>=2.23.0->redshift-connector[full]) (3.3.2)\n",
      "Requirement already satisfied: idna<4,>=2.5 in /Users/norbermv/venv/jnotebook/lib/python3.9/site-packages (from requests<3.0.0,>=2.23.0->redshift-connector[full]) (3.4)\n",
      "Requirement already satisfied: certifi>=2017.4.17 in /Users/norbermv/venv/jnotebook/lib/python3.9/site-packages (from requests<3.0.0,>=2.23.0->redshift-connector[full]) (2023.11.17)\n",
      "Requirement already satisfied: asn1crypto>=1.5.1 in /Users/norbermv/venv/jnotebook/lib/python3.9/site-packages (from scramp<1.5.0,>=1.2.0->redshift-connector[full]) (1.5.1)\n",
      "Requirement already satisfied: tzdata>=2022.1 in /Users/norbermv/venv/jnotebook/lib/python3.9/site-packages (from pandas->redshift-connector[full]) (2023.4)\n",
      "Requirement already satisfied: six>=1.5 in /Users/norbermv/venv/jnotebook/lib/python3.9/site-packages (from python-dateutil<3.0.0,>=2.1->botocore<2.0.0,>=1.12.201->redshift-connector[full]) (1.16.0)\n",
      "\n",
      "\u001B[1m[\u001B[0m\u001B[34;49mnotice\u001B[0m\u001B[1;39;49m]\u001B[0m\u001B[39;49m A new release of pip is available: \u001B[0m\u001B[31;49m23.1.2\u001B[0m\u001B[39;49m -> \u001B[0m\u001B[32;49m23.3.2\u001B[0m\n",
      "\u001B[1m[\u001B[0m\u001B[34;49mnotice\u001B[0m\u001B[1;39;49m]\u001B[0m\u001B[39;49m To update, run: \u001B[0m\u001B[32;49mpip install --upgrade pip\u001B[0m\n",
      "Requirement already satisfied: python-dotenv in /Users/norbermv/venv/jnotebook/lib/python3.9/site-packages (1.0.0)\n",
      "\n",
      "\u001B[1m[\u001B[0m\u001B[34;49mnotice\u001B[0m\u001B[1;39;49m]\u001B[0m\u001B[39;49m A new release of pip is available: \u001B[0m\u001B[31;49m23.1.2\u001B[0m\u001B[39;49m -> \u001B[0m\u001B[32;49m23.3.2\u001B[0m\n",
      "\u001B[1m[\u001B[0m\u001B[34;49mnotice\u001B[0m\u001B[1;39;49m]\u001B[0m\u001B[39;49m To update, run: \u001B[0m\u001B[32;49mpip install --upgrade pip\u001B[0m\n",
      "Requirement already satisfied: psycopg2-binary in /Users/norbermv/venv/jnotebook/lib/python3.9/site-packages (2.9.9)\n",
      "\n",
      "\u001B[1m[\u001B[0m\u001B[34;49mnotice\u001B[0m\u001B[1;39;49m]\u001B[0m\u001B[39;49m A new release of pip is available: \u001B[0m\u001B[31;49m23.1.2\u001B[0m\u001B[39;49m -> \u001B[0m\u001B[32;49m23.3.2\u001B[0m\n",
      "\u001B[1m[\u001B[0m\u001B[34;49mnotice\u001B[0m\u001B[1;39;49m]\u001B[0m\u001B[39;49m To update, run: \u001B[0m\u001B[32;49mpip install --upgrade pip\u001B[0m\n"
     ]
    }
   ],
   "source": [
    "!pip install yfinance\n",
    "!pip install \"redshift-connector[full]\" sqlalchemy-redshift\n",
    "!pip install python-dotenv\n",
    "!pip install psycopg2-binary"
   ]
  },
  {
   "cell_type": "code",
   "execution_count": null,
   "outputs": [],
   "source": [
    "import os\n",
    "from configparser import ConfigParser\n",
    "import sqlalchemy as sa\n",
    "from sqlalchemy.engine.url import URL\n",
    "from sqlalchemy.exc import SQLAlchemyError, ResourceClosedError\n",
    "import pandas as pd\n",
    "from pathlib import Path\n",
    "import yfinance as yf\n",
    "from dotenv import load_dotenv\n",
    "load_dotenv()"
   ],
   "metadata": {
    "collapsed": false,
    "pycharm": {
     "name": "#%%\n"
    }
   }
  },
  {
   "cell_type": "code",
   "execution_count": null,
   "outputs": [],
   "source": [
    "# This file is used by dotenv to load the db credentials\n",
    "env_file = Path('.').resolve() / '.env'"
   ],
   "metadata": {
    "collapsed": false,
    "pycharm": {
     "name": "#%%\n"
    }
   }
  },
  {
   "cell_type": "code",
   "execution_count": null,
   "outputs": [],
   "source": [
    "# DB configuration environment variables\n",
    "user = os.getenv('USERNAME')\n",
    "passw = os.getenv('PASSW')\n",
    "host = os.getenv('HOST')\n",
    "port = os.getenv('PORT')\n",
    "dbname = os.getenv('DB_NAME')\n",
    "schema = \"norbermv_dev_coderhouse\""
   ],
   "metadata": {
    "collapsed": false,
    "pycharm": {
     "name": "#%%\n"
    }
   }
  },
  {
   "cell_type": "code",
   "execution_count": null,
   "outputs": [],
   "source": [
    "### Defining some useful functions for handling the Redshift db connection."
   ],
   "metadata": {
    "collapsed": false,
    "pycharm": {
     "name": "#%%\n"
    }
   }
  },
  {
   "cell_type": "code",
   "execution_count": null,
   "outputs": [],
   "source": [
    "def build_conn_string(\n",
    "    user: str, \n",
    "    passw: str, \n",
    "    host: str, \n",
    "    port: str, \n",
    "    dbname: str\n",
    ") -> URL:\n",
    "    conn_string = URL.create(\n",
    "        drivername=\"postgresql\",\n",
    "        username=user,\n",
    "        password=passw,\n",
    "        host=host,\n",
    "        port=port,\n",
    "        database=dbname\n",
    "    )\n",
    "    return conn_string\n",
    "\n",
    "def conn_to_db(conn_str: URL) -> tuple :\n",
    "    # Create an engine with the connection string\n",
    "    engine = sa.create_engine(conn_str)\n",
    "    try:\n",
    "        # Connect to the database\n",
    "        conn = engine.connect()\n",
    "        return conn, engine\n",
    "    except SQLAlchemyError as e:\n",
    "        print(f\"Error connecting to the database: {e}\")\n",
    "        return None, None"
   ],
   "metadata": {
    "collapsed": false,
    "pycharm": {
     "name": "#%%\n"
    }
   }
  },
  {
   "cell_type": "code",
   "execution_count": null,
   "outputs": [],
   "source": [
    "# Build the connection string, and connect to the DB\n",
    "conn_str = build_conn_string(\n",
    "    user, \n",
    "    passw, \n",
    "    host, \n",
    "    port,\n",
    "    dbname\n",
    ")"
   ],
   "metadata": {
    "collapsed": false,
    "pycharm": {
     "name": "#%%\n"
    }
   }
  },
  {
   "cell_type": "code",
   "execution_count": null,
   "outputs": [],
   "source": [
    "conn, engine = conn_to_db(conn_str)"
   ],
   "metadata": {
    "collapsed": false,
    "pycharm": {
     "name": "#%%\n"
    }
   }
  },
  {
   "cell_type": "markdown",
   "source": [
    "## Create The `stock_hist`  Table"
   ],
   "metadata": {
    "collapsed": false,
    "pycharm": {
     "name": "#%% md\n"
    }
   }
  },
  {
   "cell_type": "code",
   "execution_count": null,
   "outputs": [],
   "source": [
    "if conn is not None:\n",
    "    try:\n",
    "        # Use the connection to execute a DDL statement\n",
    "        with conn.begin() as trans:\n",
    "            conn.execute(\n",
    "                f\"\"\"\n",
    "                DROP TABLE IF EXISTS {schema}.stock_hist;\n",
    "                CREATE TABLE {schema}.stock_hist (\n",
    "                    Date TIMESTAMP,\n",
    "                    open_price FLOAT,\n",
    "                    High FLOAT,\n",
    "                    Low FLOAT,\n",
    "                    Close FLOAT,\n",
    "                    Volume INT,\n",
    "                    Dividends FLOAT,\n",
    "                    Stock_Splits FLOAT\n",
    "                );\n",
    "                \"\"\"\n",
    "            )\n",
    "            # Commit the transaction to ensure DDL statement is executed\n",
    "            trans.commit()\n",
    "    except Exception as e:\n",
    "        print(f\"An error occurred: {e}\")\n",
    "    finally:\n",
    "        conn.close()\n",
    "else:\n",
    "    print(\"Failed to connect to the database.\")\n"
   ],
   "metadata": {
    "collapsed": false,
    "pycharm": {
     "name": "#%%\n"
    }
   }
  },
  {
   "cell_type": "markdown",
   "source": [
    "## Retrieving the data from the `yfinance` API\n",
    "Using the yfinance API to fetch historical stock data for Apple Inc. (ticker symbol: AAPL)"
   ],
   "metadata": {
    "collapsed": false,
    "pycharm": {
     "name": "#%% md\n"
    }
   }
  },
  {
   "cell_type": "code",
   "execution_count": null,
   "outputs": [],
   "source": [
    "# Create a Ticker object for Apple Inc.\n",
    "aapl = yf.Ticker(\"AAPL\")"
   ],
   "metadata": {
    "collapsed": false,
    "pycharm": {
     "name": "#%%\n"
    }
   }
  },
  {
   "cell_type": "code",
   "execution_count": null,
   "outputs": [],
   "source": [
    "# Get historical market data for Apple\n",
    "aapl_hist = aapl.history(period=\"1y\")\n",
    "\n",
    "# Show meta information about the history for Apple (requires history() to be called first)\n",
    "aapl_history_metadata = aapl.history_metadata"
   ],
   "metadata": {
    "collapsed": false,
    "pycharm": {
     "name": "#%%\n"
    }
   }
  },
  {
   "cell_type": "code",
   "execution_count": null,
   "outputs": [],
   "source": [
    "# Rename the aapl_hist DataFrame columns to match the column names in the 'stock_hist' table\n",
    "aapl_hist.columns = ['open_price', 'High', 'Low', 'Close', 'Volume', 'Dividends', 'Stock_Splits']"
   ],
   "metadata": {
    "collapsed": false,
    "pycharm": {
     "name": "#%%\n"
    }
   }
  },
  {
   "cell_type": "code",
   "execution_count": null,
   "outputs": [],
   "source": [
    "aapl_hist.head()"
   ],
   "metadata": {
    "collapsed": false,
    "pycharm": {
     "name": "#%%\n"
    }
   }
  },
  {
   "cell_type": "code",
   "execution_count": null,
   "outputs": [],
   "source": [
    "conn, engine = conn_to_db(conn_str)"
   ],
   "metadata": {
    "collapsed": false,
    "pycharm": {
     "name": "#%%\n"
    }
   }
  },
  {
   "cell_type": "code",
   "execution_count": null,
   "outputs": [],
   "source": [
    "if conn is not None:\n",
    "    try:\n",
    "        with conn.begin() as trans:\n",
    "            for index, row in aapl_hist.iterrows():\n",
    "                sql = f\"\"\"\n",
    "                INSERT INTO {schema}.stock_hist (Date, open_price, High, Low, Close, Volume, Dividends, Stock_Splits)\n",
    "                VALUES (%s, %s, %s, %s, %s, %s, %s, %s);\n",
    "                \"\"\"\n",
    "                conn.execute(sql, (index, row['open_price'], row['High'], row['Low'], row['Close'], row['Volume'], row['Dividends'], row['Stock_Splits']))\n",
    "            # Commit the transaction\n",
    "            trans.commit()\n",
    "    except Exception as e:\n",
    "        if isinstance(e, ResourceClosedError):\n",
    "            print(\"Failed to connect to the database\")\n",
    "        else:\n",
    "            print(f\"An error occurred: {e}\")\n",
    "    finally:\n",
    "        conn.close()"
   ],
   "metadata": {
    "collapsed": false,
    "pycharm": {
     "name": "#%%\n"
    }
   }
  },
  {
   "cell_type": "code",
   "execution_count": 145,
   "id": "9799b9db",
   "metadata": {},
   "outputs": [
    {
     "name": "stdout",
     "output_type": "stream",
     "text": [
      "Failed to connect to the database\n"
     ]
    }
   ],
   "source": [
    "if conn is not None:\n",
    "    try:\n",
    "        with conn.begin() as trans:\n",
    "            for index, row in aapl_hist.iterrows():\n",
    "                sql = f\"\"\"\n",
    "                INSERT INTO {schema}.stock_hist (Date, open_price, High, Low, Close, Volume, Dividends, Stock_Splits)\n",
    "                VALUES (%s, %s, %s, %s, %s, %s, %s, %s);\n",
    "                \"\"\"\n",
    "                conn.execute(sql, (index, row['open_price'], row['High'], row['Low'], row['Close'], row['Volume'], row['Dividends'], row['Stock_Splits']))\n",
    "            # Commit the transaction\n",
    "            trans.commit()\n",
    "    except Exception as e:\n",
    "        if isinstance(e, ResourceClosedError):\n",
    "            print(\"Failed to connect to the database\")\n",
    "        else:\n",
    "            print(f\"An error occurred: {e}\")\n",
    "    finally:\n",
    "        conn.close()"
   ]
  },
  {
   "cell_type": "code",
   "execution_count": null,
   "id": "649510a2",
   "metadata": {},
   "outputs": [],
   "source": []
  }
 ],
 "metadata": {
  "kernelspec": {
   "display_name": "Python 3 (ipykernel)",
   "language": "python",
   "name": "python3"
  },
  "language_info": {
   "codemirror_mode": {
    "name": "ipython",
    "version": 3
   },
   "file_extension": ".py",
   "mimetype": "text/x-python",
   "name": "python",
   "nbconvert_exporter": "python",
   "pygments_lexer": "ipython3",
   "version": "3.9.12"
  }
 },
 "nbformat": 4,
 "nbformat_minor": 5
}