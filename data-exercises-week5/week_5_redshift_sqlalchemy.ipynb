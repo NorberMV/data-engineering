{
 "cells": [
  {
   "cell_type": "code",
   "execution_count": 149,
   "id": "ac3f22b0",
   "metadata": {
    "pycharm": {
     "name": "#%%\n"
    }
   },
   "outputs": [],
   "source": [
    "%%capture\n",
    "!pip install yfinance\n",
    "!pip install \"redshift-connector[full]\" sqlalchemy-redshift\n",
    "!pip install python-dotenv\n",
    "!pip install psycopg2-binary"
   ]
  },
  {
   "cell_type": "code",
   "execution_count": 150,
   "id": "2e45e9fe",
   "metadata": {
    "pycharm": {
     "name": "#%%\n"
    }
   },
   "outputs": [
    {
     "data": {
      "text/plain": [
       "True"
      ]
     },
     "execution_count": 150,
     "metadata": {},
     "output_type": "execute_result"
    }
   ],
   "source": [
    "import os\n",
    "from configparser import ConfigParser\n",
    "import sqlalchemy as sa\n",
    "from sqlalchemy.engine.url import URL\n",
    "from sqlalchemy.exc import SQLAlchemyError, ResourceClosedError\n",
    "import pandas as pd\n",
    "from pathlib import Path\n",
    "import yfinance as yf\n",
    "from dotenv import load_dotenv\n",
    "load_dotenv()"
   ]
  },
  {
   "cell_type": "code",
   "execution_count": 139,
   "id": "0ca074fd",
   "metadata": {
    "pycharm": {
     "name": "#%%\n"
    }
   },
   "outputs": [],
   "source": [
    "# This file is used by dotenv to load the db credentials\n",
    "env_file = Path('.').resolve() / '.env'"
   ]
  },
  {
   "cell_type": "code",
   "execution_count": 140,
   "id": "7fad749c",
   "metadata": {
    "pycharm": {
     "name": "#%%\n"
    }
   },
   "outputs": [],
   "source": [
    "# DB configuration environment variables\n",
    "user = os.getenv('USERNAME')\n",
    "passw = os.getenv('PASSW')\n",
    "host = os.getenv('HOST')\n",
    "port = os.getenv('PORT')\n",
    "dbname = os.getenv('DB_NAME')\n",
    "schema = \"norbermv_dev_coderhouse\""
   ]
  },
  {
   "cell_type": "markdown",
   "id": "7993f7ec",
   "metadata": {
    "pycharm": {
     "name": "#%%\n"
    }
   },
   "source": [
    "### Defining some useful functions for handling the Redshift db connection."
   ]
  },
  {
   "cell_type": "code",
   "execution_count": 133,
   "id": "17c9e5c8",
   "metadata": {},
   "outputs": [],
   "source": [
    "def build_conn_string(\n",
    "    user: str, \n",
    "    passw: str, \n",
    "    host: str, \n",
    "    port: str, \n",
    "    dbname: str\n",
    ") -> URL:\n",
    "    conn_string = URL.create(\n",
    "        drivername=\"postgresql\",\n",
    "        username=user,\n",
    "        password=passw,\n",
    "        host=host,\n",
    "        port=port,\n",
    "        database=dbname\n",
    "    )\n",
    "    return conn_string\n",
    "\n",
    "def conn_to_db(conn_str: URL) -> tuple :\n",
    "    # Create an engine with the connection string\n",
    "    engine = sa.create_engine(conn_str)\n",
    "    try:\n",
    "        # Connect to the database\n",
    "        conn = engine.connect()\n",
    "        return conn, engine\n",
    "    except SQLAlchemyError as e:\n",
    "        print(f\"Error connecting to the database: {e}\")\n",
    "        return None, None"
   ]
  },
  {
   "cell_type": "code",
   "execution_count": 135,
   "id": "497cddb5",
   "metadata": {},
   "outputs": [],
   "source": [
    "# Build the connection string, and connect to the DB\n",
    "conn_str = build_conn_string(\n",
    "    user, \n",
    "    passw, \n",
    "    host, \n",
    "    port,\n",
    "    dbname\n",
    ")"
   ]
  },
  {
   "cell_type": "code",
   "execution_count": 136,
   "id": "3cbe342a",
   "metadata": {},
   "outputs": [],
   "source": [
    "conn, engine = conn_to_db(conn_str)"
   ]
  },
  {
   "cell_type": "markdown",
   "id": "525a5526",
   "metadata": {},
   "source": [
    "## Create The `stock_hist`  Table"
   ]
  },
  {
   "cell_type": "code",
   "execution_count": 137,
   "id": "57381dc6",
   "metadata": {},
   "outputs": [],
   "source": [
    "if conn is not None:\n",
    "    try:\n",
    "        # Use the connection to execute a DDL statement\n",
    "        with conn.begin() as trans:\n",
    "            conn.execute(\n",
    "                f\"\"\"\n",
    "                DROP TABLE IF EXISTS {schema}.stock_hist;\n",
    "                CREATE TABLE {schema}.stock_hist (\n",
    "                    Date TIMESTAMP,\n",
    "                    open_price FLOAT,\n",
    "                    High FLOAT,\n",
    "                    Low FLOAT,\n",
    "                    Close FLOAT,\n",
    "                    Volume INT,\n",
    "                    Dividends FLOAT,\n",
    "                    Stock_Splits FLOAT\n",
    "                );\n",
    "                \"\"\"\n",
    "            )\n",
    "            # Commit the transaction to ensure DDL statement is executed\n",
    "            trans.commit()\n",
    "    except Exception as e:\n",
    "        print(f\"An error occurred: {e}\")\n",
    "    finally:\n",
    "        conn.close()\n",
    "else:\n",
    "    print(\"Failed to connect to the database.\")\n"
   ]
  },
  {
   "cell_type": "markdown",
   "id": "04a3f009",
   "metadata": {},
   "source": [
    "## Retrieving the data from the `yfinance` API\n",
    "Using the yfinance API to fetch historical stock data for Apple Inc. (ticker symbol: AAPL)"
   ]
  },
  {
   "cell_type": "code",
   "execution_count": 142,
   "id": "f8086ecc",
   "metadata": {},
   "outputs": [],
   "source": [
    "# Create a Ticker object for Apple Inc.\n",
    "aapl = yf.Ticker(\"AAPL\")"
   ]
  },
  {
   "cell_type": "code",
   "execution_count": 115,
   "id": "7f4c5810",
   "metadata": {},
   "outputs": [],
   "source": [
    "# Get historical market data for Apple\n",
    "aapl_hist = aapl.history(period=\"1y\")\n",
    "\n",
    "# Show meta information about the history for Apple (requires history() to be called first)\n",
    "aapl_history_metadata = aapl.history_metadata"
   ]
  },
  {
   "cell_type": "code",
   "execution_count": 143,
   "id": "a8fe19fc",
   "metadata": {},
   "outputs": [],
   "source": [
    "# Rename the aapl_hist DataFrame columns to match the column names in the 'stock_hist' table\n",
    "aapl_hist.columns = ['open_price', 'High', 'Low', 'Close', 'Volume', 'Dividends', 'Stock_Splits']"
   ]
  },
  {
   "cell_type": "code",
   "execution_count": 144,
   "id": "08bdfe36",
   "metadata": {},
   "outputs": [
    {
     "data": {
      "text/html": [
       "<div>\n",
       "<style scoped>\n",
       "    .dataframe tbody tr th:only-of-type {\n",
       "        vertical-align: middle;\n",
       "    }\n",
       "\n",
       "    .dataframe tbody tr th {\n",
       "        vertical-align: top;\n",
       "    }\n",
       "\n",
       "    .dataframe thead th {\n",
       "        text-align: right;\n",
       "    }\n",
       "</style>\n",
       "<table border=\"1\" class=\"dataframe\">\n",
       "  <thead>\n",
       "    <tr style=\"text-align: right;\">\n",
       "      <th></th>\n",
       "      <th>open_price</th>\n",
       "      <th>High</th>\n",
       "      <th>Low</th>\n",
       "      <th>Close</th>\n",
       "      <th>Volume</th>\n",
       "      <th>Dividends</th>\n",
       "      <th>Stock_Splits</th>\n",
       "    </tr>\n",
       "    <tr>\n",
       "      <th>Date</th>\n",
       "      <th></th>\n",
       "      <th></th>\n",
       "      <th></th>\n",
       "      <th></th>\n",
       "      <th></th>\n",
       "      <th></th>\n",
       "      <th></th>\n",
       "    </tr>\n",
       "  </thead>\n",
       "  <tbody>\n",
       "    <tr>\n",
       "      <th>2023-01-13 00:00:00-05:00</th>\n",
       "      <td>131.296119</td>\n",
       "      <td>134.170055</td>\n",
       "      <td>130.928181</td>\n",
       "      <td>134.010941</td>\n",
       "      <td>57809700</td>\n",
       "      <td>0.0</td>\n",
       "      <td>0.0</td>\n",
       "    </tr>\n",
       "    <tr>\n",
       "      <th>2023-01-17 00:00:00-05:00</th>\n",
       "      <td>134.080541</td>\n",
       "      <td>136.526859</td>\n",
       "      <td>133.384435</td>\n",
       "      <td>135.184372</td>\n",
       "      <td>63646600</td>\n",
       "      <td>0.0</td>\n",
       "      <td>0.0</td>\n",
       "    </tr>\n",
       "    <tr>\n",
       "      <th>2023-01-18 00:00:00-05:00</th>\n",
       "      <td>136.059486</td>\n",
       "      <td>137.839530</td>\n",
       "      <td>134.279428</td>\n",
       "      <td>134.458435</td>\n",
       "      <td>69672800</td>\n",
       "      <td>0.0</td>\n",
       "      <td>0.0</td>\n",
       "    </tr>\n",
       "    <tr>\n",
       "      <th>2023-01-19 00:00:00-05:00</th>\n",
       "      <td>133.334724</td>\n",
       "      <td>135.492661</td>\n",
       "      <td>133.026450</td>\n",
       "      <td>134.518112</td>\n",
       "      <td>58280400</td>\n",
       "      <td>0.0</td>\n",
       "      <td>0.0</td>\n",
       "    </tr>\n",
       "    <tr>\n",
       "      <th>2023-01-20 00:00:00-05:00</th>\n",
       "      <td>134.528053</td>\n",
       "      <td>137.252828</td>\n",
       "      <td>133.473947</td>\n",
       "      <td>137.103653</td>\n",
       "      <td>80223600</td>\n",
       "      <td>0.0</td>\n",
       "      <td>0.0</td>\n",
       "    </tr>\n",
       "  </tbody>\n",
       "</table>\n",
       "</div>"
      ],
      "text/plain": [
       "                           open_price        High         Low       Close  \\\n",
       "Date                                                                        \n",
       "2023-01-13 00:00:00-05:00  131.296119  134.170055  130.928181  134.010941   \n",
       "2023-01-17 00:00:00-05:00  134.080541  136.526859  133.384435  135.184372   \n",
       "2023-01-18 00:00:00-05:00  136.059486  137.839530  134.279428  134.458435   \n",
       "2023-01-19 00:00:00-05:00  133.334724  135.492661  133.026450  134.518112   \n",
       "2023-01-20 00:00:00-05:00  134.528053  137.252828  133.473947  137.103653   \n",
       "\n",
       "                             Volume  Dividends  Stock_Splits  \n",
       "Date                                                          \n",
       "2023-01-13 00:00:00-05:00  57809700        0.0           0.0  \n",
       "2023-01-17 00:00:00-05:00  63646600        0.0           0.0  \n",
       "2023-01-18 00:00:00-05:00  69672800        0.0           0.0  \n",
       "2023-01-19 00:00:00-05:00  58280400        0.0           0.0  \n",
       "2023-01-20 00:00:00-05:00  80223600        0.0           0.0  "
      ]
     },
     "execution_count": 144,
     "metadata": {},
     "output_type": "execute_result"
    }
   ],
   "source": [
    "aapl_hist.head()"
   ]
  },
  {
   "cell_type": "code",
   "execution_count": 129,
   "id": "2bf5061e",
   "metadata": {},
   "outputs": [],
   "source": [
    "conn, engine = conn_to_db(conn_str)"
   ]
  },
  {
   "cell_type": "code",
   "execution_count": 156,
   "id": "5f17de3b",
   "metadata": {},
   "outputs": [],
   "source": [
    "\n",
    "if conn is not None:\n",
    "    try:\n",
    "        with conn.begin() as trans:\n",
    "            for index, row in aapl_hist.iterrows():\n",
    "                sql = f\"\"\"\n",
    "                INSERT INTO {schema}.stock_hist (Date, open_price, High, Low, Close, Volume, Dividends, Stock_Splits)\n",
    "                VALUES (%s, %s, %s, %s, %s, %s, %s, %s);\n",
    "                \"\"\"\n",
    "                conn.execute(sql, (index, row['open_price'], row['High'], row['Low'], row['Close'], row['Volume'], row['Dividends'], row['Stock_Splits']))\n",
    "            # Commit the transaction\n",
    "            trans.commit()\n",
    "    except Exception as e:\n",
    "        if isinstance(e, ResourceClosedError):\n",
    "            print(\"Failed to connect to the database\");\n",
    "        else:\n",
    "            print(f\"An error occurred: {e}\")\n",
    "    finally:\n",
    "        conn.close()"
   ]
  },
  {
   "cell_type": "code",
   "execution_count": null,
   "id": "d1060b4e",
   "metadata": {},
   "outputs": [],
   "source": []
  }
 ],
 "metadata": {
  "kernelspec": {
   "display_name": "Python 3 (ipykernel)",
   "language": "python",
   "name": "python3"
  },
  "language_info": {
   "codemirror_mode": {
    "name": "ipython",
    "version": 3
   },
   "file_extension": ".py",
   "mimetype": "text/x-python",
   "name": "python",
   "nbconvert_exporter": "python",
   "pygments_lexer": "ipython3",
   "version": "3.9.12"
  }
 },
 "nbformat": 4,
 "nbformat_minor": 5
}
